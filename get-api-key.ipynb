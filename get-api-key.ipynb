{
 "cells": [
  {
   "cell_type": "code",
   "execution_count": 2,
   "metadata": {},
   "outputs": [],
   "source": [
    "import pandas as pd\n",
    "import matplotlib.pyplot as plt\n",
    "import seaborn as sns\n",
    "from requests import Session\n",
    "import json\n",
    "import warnings\n",
    "warnings.filterwarnings('ignore')\n",
    "from requests.exceptions import ConnectionError, Timeout, TooManyRedirects\n",
    "from datetime import datetime, timezone, timedelta"
   ]
  },
  {
   "cell_type": "code",
   "execution_count": 3,
   "metadata": {},
   "outputs": [],
   "source": [
    "topn = 100\n",
    "\n",
    "# api key dan url (will Delete Soon so replace to your own KEY)\n",
    "\n",
    "api_key = '6f72fc32-b11d-496d-9f54-d4d4e5467042'  \n",
    "\n",
    "#copy apikey mu di sini \n",
    "\n",
    "url = 'https://pro-api.coinmarketcap.com/v1/cryptocurrency/listings/latest'"
   ]
  },
  {
   "cell_type": "code",
   "execution_count": 4,
   "metadata": {},
   "outputs": [],
   "source": [
    "# setting parameter \n",
    "parameters = {\n",
    "  'start':'1', # awal data coin yang diambil mulai dari rank 1\n",
    "  'limit':'5000', # limit data coin diambil 5000 coin\n",
    "  'convert':'USD' # pilih mata uang di sini kita pilih USD\n",
    "}\n",
    "headers = {\n",
    "  'Accepts': 'application/json', # memilih format JSON\n",
    "  'X-CMC_PRO_API_KEY': api_key, # memasukkan API Key\n",
    "}\n"
   ]
  },
  {
   "cell_type": "code",
   "execution_count": 5,
   "metadata": {},
   "outputs": [
    {
     "name": "stdout",
     "output_type": "stream",
     "text": [
      "FGPT: 2023-06-14\n"
     ]
    }
   ],
   "source": [
    "# code untuk call data\n",
    "session = Session()\n",
    "session.headers.update(headers)\n",
    "\n",
    "try:\n",
    "    response = session.get(url, params=parameters)\n",
    "    data = json.loads(response.text)\n",
    "    # code dibawah ini digunakan untuk mengambil data yang kemaren\n",
    "    today = datetime.today()\n",
    "    yesterday = str(today - timedelta(days = 1))\n",
    "    yesterday_datetime = datetime.strptime(yesterday, \"%Y-%m-%d %H:%M:%S.%f\")\n",
    "    for entry in data['data']:\n",
    "        symbol = entry['symbol']\n",
    "        # mengambil data date yang memiliki type data s\n",
    "        date_added_str = entry['date_added'][:10]\n",
    "        date_added = datetime.strptime(date_added_str, '%Y-%m-%d')\n",
    "        if yesterday_datetime < date_added:\n",
    "            print(symbol+': '+ date_added_str)\n",
    "        else:\n",
    "            pass\n",
    "except (ConnectionError, Timeout, TooManyRedirects) as e:\n",
    "    print(e)"
   ]
  },
  {
   "cell_type": "code",
   "execution_count": 6,
   "metadata": {},
   "outputs": [
    {
     "name": "stdout",
     "output_type": "stream",
     "text": [
      "Data tersimpan\n"
     ]
    }
   ],
   "source": [
    "# save data ke json\n",
    "with open('crypto_apikey.json', 'w') as f:\n",
    "    json.dump(data, f)\n",
    "    print(\"Data tersimpan\")"
   ]
  },
  {
   "cell_type": "code",
   "execution_count": 7,
   "metadata": {},
   "outputs": [
    {
     "name": "stdout",
     "output_type": "stream",
     "text": [
      "              name symbol  cmc_rank    max_supply         price  \\\n",
      "0          Bitcoin    BTC         1  2.100000e+07  25994.750162   \n",
      "1         Ethereum    ETH         2           NaN   1744.539257   \n",
      "2           Tether   USDT         3           NaN      0.999817   \n",
      "3              BNB    BNB         4           NaN    251.064680   \n",
      "4         USD Coin   USDC         5           NaN      0.999964   \n",
      "..             ...    ...       ...           ...           ...   \n",
      "95          Gnosis    GNO        96  3.000000e+06    109.104822   \n",
      "96     WOO Network    WOO        97           NaN      0.165078   \n",
      "97         Zilliqa    ZIL        98  2.100000e+10      0.017594   \n",
      "98        MX TOKEN     MX        99           NaN      2.734065   \n",
      "99  Convex Finance    CVX       100  1.000000e+08      3.463277   \n",
      "\n",
      "                last_updated updated_date updated_time  \n",
      "0   2023-06-14T04:31:00.000Z   2023-06-14     11:31:00  \n",
      "1   2023-06-14T04:31:00.000Z   2023-06-14     11:31:00  \n",
      "2   2023-06-14T04:31:00.000Z   2023-06-14     11:31:00  \n",
      "3   2023-06-14T04:31:00.000Z   2023-06-14     11:31:00  \n",
      "4   2023-06-14T04:31:00.000Z   2023-06-14     11:31:00  \n",
      "..                       ...          ...          ...  \n",
      "95  2023-06-14T04:31:00.000Z   2023-06-14     11:31:00  \n",
      "96  2023-06-14T04:31:00.000Z   2023-06-14     11:31:00  \n",
      "97  2023-06-14T04:31:00.000Z   2023-06-14     11:31:00  \n",
      "98  2023-06-14T04:31:00.000Z   2023-06-14     11:31:00  \n",
      "99  2023-06-14T04:31:00.000Z   2023-06-14     11:31:00  \n",
      "\n",
      "[100 rows x 8 columns]\n"
     ]
    }
   ],
   "source": [
    "# membuat data sebagai dataframe\n",
    "crypto_data = pd.DataFrame(data['data'])\n",
    "\n",
    "# ambil data 'name','symbol','cmc_rank','last_updated','max_supply','quote' (quote untuk ambil price)\n",
    "getting_price = crypto_data[['name','symbol','cmc_rank','last_updated','max_supply','quote']]\n",
    "\n",
    "# mengambil price\n",
    "getting_price['price'] = [getting_price['quote'].values[i]['USD'].get('price') for i in range(len(getting_price))]\n",
    "datas = getting_price[['name','symbol','cmc_rank','max_supply','price','last_updated']].sort_values('price', ascending = False)\n",
    "datas = datas.sort_values('cmc_rank')\n",
    "top100 = datas[datas.cmc_rank <= topn]\n",
    "\n",
    "# processing date data\n",
    "top100['updated_date'] = pd.to_datetime(top100['last_updated']).dt.date\n",
    "top100['updated_time'] = pd.to_datetime(top100['last_updated']).dt.time\n",
    "\n",
    "top100['updated_time'] = pd.to_timedelta(top100['updated_time'].astype('str')) + timedelta(hours=7, minutes=0, seconds=0)\n",
    "top100['updated_time'] = pd.to_datetime(top100['updated_time'].astype('str').str.replace('0 days','').str.strip()).dt.time\n",
    "\n",
    "print(top100)"
   ]
  },
  {
   "cell_type": "code",
   "execution_count": null,
   "metadata": {},
   "outputs": [],
   "source": []
  }
 ],
 "metadata": {
  "kernelspec": {
   "display_name": "Python 3",
   "language": "python",
   "name": "python3"
  },
  "language_info": {
   "codemirror_mode": {
    "name": "ipython",
    "version": 3
   },
   "file_extension": ".py",
   "mimetype": "text/x-python",
   "name": "python",
   "nbconvert_exporter": "python",
   "pygments_lexer": "ipython3",
   "version": "3.11.3"
  },
  "orig_nbformat": 4
 },
 "nbformat": 4,
 "nbformat_minor": 2
}
